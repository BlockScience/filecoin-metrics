{
 "cells": [
  {
   "cell_type": "markdown",
   "metadata": {},
   "source": [
    "# EDA for Gas Fees - V2\n",
    "\n",
    "In this notebook we perform Exploratory Data Analysis (EDA) on FIL's gas fee mechanism. The goal is to observe the gas fee as a signal and attempt to understand what may be driving it. \n",
    "\n",
    "\n",
    "### Next steps from Filecoin sync 6-29-2021:\n",
    "* ZX next steps: Spikes in burn and base fee movement might be a lag. What is the leading indicator?\n",
    "* Take different data aggregations instead of hourly. One week of data at 30 secs, for instance. \n",
    "* Look at a combination of messages.\n",
    "* From ZX: bad configuration file not from the code but a miner. Spamming the chain on June 3rd, a protective mechanism protects the chain\n",
    "* Explore weekly spikes - FT for periodic trend\n",
    "* Check for time-varying volatility. Compare to message types\n",
    "* Introduce exogenous variables such as delta network power (chain_powers, chain_economics, chain_rewards). Use state root and parent state root to combine, height if not available\n",
    "\n",
    "\n",
    "\n",
    "\n",
    "Questions to be answered in this notebook:\n",
    "* Understand data we have by performing a data baseline - event and aggregated data.\n",
    "* Reverse engineer June 3 spike - what happened and why? Can we generalize what drives burning?\n",
    "* Distribution of attributes of things people are willing to pay gas fees for. What types of transactions are individuals paying more for?\n",
    "* Are revenues over cost?\n",
    "* Create curated data signals for Digital Twin use\n",
    "* Obtain message metadata, try and predict cost from it (classifier or regressor). Which attributes are mapped to smaller or larger costs? Which messages are worth paying a lot for? The question is what people are they paying for and *why*?\n",
    "* Reperform Granger Causality when we have more data understanding\n",
    "\n",
    "\n",
    "\n",
    "\n",
    "\n",
    "## Background information: What are Gas Fees? \n",
    "Note: this description is copied from the [official Filecoin documentation](https://docs.filecoin.io/about-filecoin/how-filecoin-works/#gas-fees)\n",
    "\n",
    "Executing messages, for example by including transactions or proofs in the chain, consumes both computation and storage resources on the network. Gas is a measure of resources consumed by messages. The gas consumed by a message directly affects the cost that the sender has to pay for it to be included in a new block by a miner.\n",
    "\n",
    "Historically in other blockchains, miners specify a GasFee in a unit of native currency and then pay the block producing miners a priority fee based on how much gas is consumed by the message. Filecoin works similarly, except an amount of the fees is burned (sent to an irrecoverable address) to compensate for the network expenditure of resources, since all nodes need to validate the messages. The idea is based on Ethereum's EIP1559.\n",
    "\n",
    "The amount of fees burned in the Filecoin network comes given by a dynamic BaseFee which gets automatically adjusted according to the network congestion parameters (block sizes). The current value can be obtained from one of the block explorers or by inspecting the current head.\n",
    "\n",
    "Additionally, a number of gas-related parameters are attached to each message and determine the amount of rewards that miners get. Here's an overview of the terms and concepts:\n",
    "\n",
    "**GasUsage**: the amount of gas that a message's execution actually consumes. Current protocol does not know how much gas a message will exactly consume ahead of execution, but it can be estimated (see prices (opens new window)). GasUsage measured in units of Gas.\n",
    "\n",
    "**BaseFee**: the amount of FIL that gets burned per unit of gas consumed for the execution of every message. It is measured in units of attoFIL/Gas.\n",
    "\n",
    "**GasLimit**: the limit on the amount of gas that a message's execution can consume, estimated and specified by a message sender. It is measured in units of Gas. The sum of GasLimit for all messages included in a block must not exceed the BlockGasLimit. Messages will fail to execute if they run out of Gas, and any effects of the execution will be reverted.\n",
    "\n",
    "**GasFeeCap**: the maximum token amount that a sender is willing to pay per GasUnit for including a message in a block. It is measured in units of attoFIL/Gas. A message sender must have a minimum balance of GasFeeCap * GasLimit when sending a message, even though not all of that will be consumed. GasFeeCap can serve as a safeguard against high, unexpected BaseFee fluctuations.\n",
    "\n",
    "**GasPremium**: a priority fee that is paid to the block-producing miner. This is capped by GasFeeCap. The BaseFee has a higher priority. It is measured in units of attoFIL/Gas and can be as low as 1 attoFIL/Gas.\n",
    "\n",
    "**Overestimation burn**: an additional amount of gas to burn that grows larger when the difference between GasLimit and GasUsage is large. \n",
    "\n",
    "The total cost of a message for a sender will be:\n",
    "\n",
    "* GasUsage * BaseFee FIL (burned) +\n",
    "* GasLimit * GasPremium FIL (miner's reward) +\n",
    "* OverEstimationBurn * BaseFee FIL\n",
    "\n",
    "An important detail is that a message will always pay the burn fee, regardless of the GasFeeCap used. Thus, a low GasFeeCap may result in a reduced GasPremium or even a negative one! In that case, the miners that include a message will have to pay the needed amounts out of their own pockets, which means they are unlikely to include such messages in new blocks.\n",
    "\n",
    "Filecoin implementations may choose the heuristics of how their miners select messages for inclusion in new blocks, but they will usually attempt to maximize the miner's rewards.\n",
    "\n",
    "\n",
    "## Data Resources\n",
    "* https://hackmd.io/5leND7tITX--5NJsFCJyow # Existing Sentinel queries \n",
    "* https://github.com/filecoin-project/sentinel/blob/master/docs/sentinel_tables_purpose.csv # Sentinel Tables Purpose\n",
    "\n",
    "\n",
    "### Sentinel Diagram \n",
    "![](sentinel_diagram.png)"
   ]
  },
  {
   "cell_type": "code",
   "execution_count": 16,
   "metadata": {
    "scrolled": true
   },
   "outputs": [],
   "source": [
    "# import libraries\n",
    "from sqlalchemy import create_engine\n",
    "import pandas as pd\n",
    "from datetime import datetime\n",
    "from statsmodels.tsa.api import VAR\n",
    "from sklearn.preprocessing import StandardScaler\n",
    "from statsmodels.tsa.stattools import adfuller\n",
    "from math import sqrt\n",
    "import matplotlib.pyplot as plt\n",
    "import seaborn as sns\n",
    "import scipy.stats as stats\n",
    "import numpy as np\n",
    "\n",
    "%matplotlib inline"
   ]
  },
  {
   "cell_type": "code",
   "execution_count": 5,
   "metadata": {
    "scrolled": true
   },
   "outputs": [
    {
     "name": "stderr",
     "output_type": "stream",
     "text": [
      "Exception during reset or similar\n",
      "Traceback (most recent call last):\n",
      "  File \"/opt/anaconda3/lib/python3.8/site-packages/sqlalchemy/pool/base.py\", line 697, in _finalize_fairy\n",
      "    fairy._reset(pool)\n",
      "  File \"/opt/anaconda3/lib/python3.8/site-packages/sqlalchemy/pool/base.py\", line 893, in _reset\n",
      "    pool._dialect.do_rollback(self)\n",
      "  File \"/opt/anaconda3/lib/python3.8/site-packages/sqlalchemy/engine/default.py\", line 543, in do_rollback\n",
      "    dbapi_connection.rollback()\n",
      "psycopg2.errors.IdleInTransactionSessionTimeout: terminating connection due to idle-in-transaction timeout\n",
      "SSL connection has been closed unexpectedly\n",
      "\n"
     ]
    }
   ],
   "source": [
    "# load connection string\n",
    "CONN_STRING_PATH = 'sentinel_conn_string_andrew.txt'\n",
    "\n",
    "with open(CONN_STRING_PATH, 'r') as fid:\n",
    "    conn_string = fid.read()\n",
    "    \n",
    "# create database connection.\n",
    "connection = create_engine(conn_string, pool_recycle=3600).connect()\n"
   ]
  },
  {
   "cell_type": "markdown",
   "metadata": {},
   "source": [
    "## Data EDA\n",
    "\n",
    "Below we download hourly averages from the `messages` and `mesage_gas_economy` table from May 1st, 2021 to present (last refreshed 6/28/2021). After downloading the data, we few the first and lasts 5 rows, and perform basic statistics on the data.\n",
    "\n",
    "\n",
    "### Data Dictionary - coped from [Sentinel's Data Dictionary](https://github.com/filecoin-project/sentinel/blob/master/docs/db.md)\n",
    "## `message_gas_economy`\n",
    "Gas economics for all messages in all blocks at each epoch.\n",
    "\n",
    "|Name|Type|Nullable|Description|\n",
    "|---|---|---|---|\n",
    "|`base_fee`|`double precision`|NO|The set price per unit of gas (measured in attoFIL/gas unit) to be burned (sent to an unrecoverable address) for every message execution.|\n",
    "|`base_fee_change_log`|`double precision`|NO|The logarithm of the change between new and old base fee.|\n",
    "|`gas_capacity_ratio`|`double precision`|YES|The gas_limit_unique_total / target gas limit total for all blocks.|\n",
    "|`gas_fill_ratio`|`double precision`|YES|The gas_limit_total / target gas limit total for all blocks.|\n",
    "|`gas_limit_total`|`bigint`|NO|The sum of all the gas limits.|\n",
    "|`gas_limit_unique_total`|`bigint`|YES|The sum of all the gas limits of unique messages.|\n",
    "|`gas_waste_ratio`|`double precision`|YES|(gas_limit_total - gas_limit_unique_total) / target gas limit total for all blocks.|\n",
    "|`height`|`bigint`|NO|Epoch these economics apply to.|\n",
    "|`state_root`|`text`|NO|CID of the parent state root at this epoch.|\n",
    "\n",
    "\n",
    "## `messages`\n",
    "Validated on-chain messages by their CID and their metadata.\n",
    "\n",
    "|Name|Type|Nullable|Description|\n",
    "|---|---|---|---|\n",
    "|`cid`|`text`|NO|CID of the message.|\n",
    "|`from`|`text`|NO|Address of the actor that sent the message.|\n",
    "|`gas_fee_cap`|`text`|NO|The maximum price that the message sender is willing to pay per unit of gas.|\n",
    "|`gas_limit`|`bigint`|NO|-|\n",
    "|`gas_premium`|`text`|NO|The price per unit of gas (measured in attoFIL/gas) that the message sender is willing to pay (on top of the BaseFee) to \"tip\" the miner that will include this message in a block.|\n",
    "|`height`|`bigint`|NO|Epoch this message was executed at.|\n",
    "|`method`|`bigint`|YES|The method number invoked on the recipient actor. Only unique to the actor the method is being invoked on. A method number of 0 is a plain token transfer - no method exectution.|\n",
    "|`nonce`|`bigint`|NO|The message nonce, which protects against duplicate messages and multiple messages with the same values.|\n",
    "|`size_bytes`|`bigint`|NO|Size of the serialized message in bytes.|\n",
    "|`to`|`text`|NO|Address of the actor that received the message.|\n",
    "|`value`|`text`|NO|Amount of FIL (in attoFIL) transferred by this message.|\n"
   ]
  },
  {
   "cell_type": "code",
   "execution_count": null,
   "metadata": {},
   "outputs": [],
   "source": [
    "Use state root and parent state root to combine, height if not available"
   ]
  },
  {
   "cell_type": "code",
   "execution_count": 8,
   "metadata": {
    "scrolled": true
   },
   "outputs": [],
   "source": [
    "QUERY = \"\"\"\n",
    "SELECT \n",
    "to_timestamp(height_to_unix(m.height)) as timestamp,\n",
    "m.from,\n",
    "m.gas_fee_cap,\n",
    "m.method,\n",
    "m.to\n",
    "FROM messages m\n",
    "WHERE\n",
    "to_timestamp(height_to_unix(m.height)) BETWEEN '2021-06-02' AND '2021-06-05'\n",
    "\"\"\"\n",
    "messages = (pd.read_sql(QUERY, connection))\n"
   ]
  },
  {
   "cell_type": "markdown",
   "metadata": {},
   "source": [
    "## Analyze Message meta data"
   ]
  },
  {
   "cell_type": "code",
   "execution_count": 9,
   "metadata": {},
   "outputs": [
    {
     "data": {
      "text/html": [
       "<div>\n",
       "<style scoped>\n",
       "    .dataframe tbody tr th:only-of-type {\n",
       "        vertical-align: middle;\n",
       "    }\n",
       "\n",
       "    .dataframe tbody tr th {\n",
       "        vertical-align: top;\n",
       "    }\n",
       "\n",
       "    .dataframe thead th {\n",
       "        text-align: right;\n",
       "    }\n",
       "</style>\n",
       "<table border=\"1\" class=\"dataframe\">\n",
       "  <thead>\n",
       "    <tr style=\"text-align: right;\">\n",
       "      <th></th>\n",
       "      <th>method</th>\n",
       "    </tr>\n",
       "  </thead>\n",
       "  <tbody>\n",
       "    <tr>\n",
       "      <th>count</th>\n",
       "      <td>4.644615e+06</td>\n",
       "    </tr>\n",
       "    <tr>\n",
       "      <th>mean</th>\n",
       "      <td>6.318362e+00</td>\n",
       "    </tr>\n",
       "    <tr>\n",
       "      <th>std</th>\n",
       "      <td>1.078328e+00</td>\n",
       "    </tr>\n",
       "    <tr>\n",
       "      <th>min</th>\n",
       "      <td>0.000000e+00</td>\n",
       "    </tr>\n",
       "    <tr>\n",
       "      <th>25%</th>\n",
       "      <td>6.000000e+00</td>\n",
       "    </tr>\n",
       "    <tr>\n",
       "      <th>50%</th>\n",
       "      <td>6.000000e+00</td>\n",
       "    </tr>\n",
       "    <tr>\n",
       "      <th>75%</th>\n",
       "      <td>7.000000e+00</td>\n",
       "    </tr>\n",
       "    <tr>\n",
       "      <th>max</th>\n",
       "      <td>2.300000e+01</td>\n",
       "    </tr>\n",
       "  </tbody>\n",
       "</table>\n",
       "</div>"
      ],
      "text/plain": [
       "             method\n",
       "count  4.644615e+06\n",
       "mean   6.318362e+00\n",
       "std    1.078328e+00\n",
       "min    0.000000e+00\n",
       "25%    6.000000e+00\n",
       "50%    6.000000e+00\n",
       "75%    7.000000e+00\n",
       "max    2.300000e+01"
      ]
     },
     "execution_count": 9,
     "metadata": {},
     "output_type": "execute_result"
    }
   ],
   "source": [
    "messages.describe()"
   ]
  },
  {
   "cell_type": "code",
   "execution_count": 11,
   "metadata": {},
   "outputs": [
    {
     "data": {
      "text/plain": [
       "6     2197377\n",
       "7     2173655\n",
       "5      170165\n",
       "0       85902\n",
       "2       10074\n",
       "11       3792\n",
       "4        1653\n",
       "16       1402\n",
       "3         337\n",
       "9         136\n",
       "23         58\n",
       "20         28\n",
       "18         17\n",
       "21         14\n",
       "8           4\n",
       "22          1\n",
       "Name: method, dtype: int64"
      ]
     },
     "execution_count": 11,
     "metadata": {},
     "output_type": "execute_result"
    }
   ],
   "source": [
    "messages['method'].value_counts()"
   ]
  },
  {
   "cell_type": "code",
   "execution_count": 12,
   "metadata": {},
   "outputs": [
    {
     "data": {
      "text/plain": [
       "f3qcmmkbobbp6ed4psyvny6zsia5v32dlxnvpfgxsvpjtaptjyuapmd3i5zr2353fqe7a2kowceis65iyjzsoq    88709\n",
       "f3vqd3cenprn6xdt73igrjukq5a7nh5rgjgajw5iev6snhv76o2sqmlgzbvq4vyje5ulrjriicsln6tz3xgimq    68142\n",
       "f3ucq7fmnfoa3jsum7qjoeyz2gflwdcq4g44eiojll6lnlqe7wbx24tjvg5v4zfniwjk6cuo2l3mceq2we6kea    63760\n",
       "f3sfemh6sz2zkrei23ra4fng4kjqr5tek4bleyxbrvcyndxvutmep27orixnjunm5cwqq25x4xlbup3jqbt3ua    52469\n",
       "f3q2crv5dhkobq7y7fzgmfot7dtxbwe26r6wzp7ny43f5233tdzvzabdup2knjc46g6ogfi5zesn34byxhjaha    51858\n",
       "                                                                                          ...  \n",
       "f1wnw4glvtxctxsu77bppirvkj4mchklj5xhs5vai                                                     1\n",
       "f1jyaerwe4jbgeubeklq754nryoygxzcovqnjhlwi                                                     1\n",
       "f1z5e7ldxef275t5dbja7a7a4qhno22dwsigh5ksa                                                     1\n",
       "f1lebl3jzeamxeo6hcncshaidf46fqcojrfxedzsa                                                     1\n",
       "f1cfbpq2jb6luec7x676r3pcybgeflnp7efnp5f7y                                                     1\n",
       "Name: from, Length: 33612, dtype: int64"
      ]
     },
     "execution_count": 12,
     "metadata": {},
     "output_type": "execute_result"
    }
   ],
   "source": [
    "messages['from'].value_counts()"
   ]
  },
  {
   "cell_type": "code",
   "execution_count": 13,
   "metadata": {},
   "outputs": [
    {
     "data": {
      "text/plain": [
       "f0755327                                     88856\n",
       "f0764901                                     88802\n",
       "f0688165                                     74596\n",
       "f0463143                                     68439\n",
       "f0724216                                     66924\n",
       "                                             ...  \n",
       "f1ussp25a3is2no7fc3remkkc6f7gogrnvgbpdmei        1\n",
       "f1qxoc7hsj7ij75iz6cwwmklttjga5lvi4svzmn5i        1\n",
       "f1bskb6jxhanlhorbdbvmlbbzldvrqtqr4hem4lgq        1\n",
       "f1yt4kmxkure52zqkg3sm7x6jmcxnbvpy6iwze3ja        1\n",
       "f1gehachl7u7dqpgp63iapx7gifpkluif4klad6wq        1\n",
       "Name: to, Length: 37333, dtype: int64"
      ]
     },
     "execution_count": 13,
     "metadata": {},
     "output_type": "execute_result"
    }
   ],
   "source": [
    "messages['to'].value_counts()"
   ]
  },
  {
   "cell_type": "code",
   "execution_count": 18,
   "metadata": {},
   "outputs": [
    {
     "data": {
      "text/plain": [
       "<AxesSubplot:xlabel='timestamp'>"
      ]
     },
     "execution_count": 18,
     "metadata": {},
     "output_type": "execute_result"
    },
    {
     "data": {
      "image/png": "[encoded data removed]",
      "text/plain": [
       "<Figure size 432x288 with 1 Axes>"
      ]
     },
     "metadata": {
      "needs_background": "light"
     },
     "output_type": "display_data"
    }
   ],
   "source": [
    "messages['gas_fee_cap'] = messages['gas_fee_cap'].astype(float)\n",
    "messages.plot(x='timestamp',y='gas_fee_cap')"
   ]
  }
 ],
 "metadata": {
  "kernelspec": {
   "display_name": "Python 3",
   "language": "python",
   "name": "python3"
  },
  "language_info": {
   "codemirror_mode": {
    "name": "ipython",
    "version": 3
   },
   "file_extension": ".py",
   "mimetype": "text/x-python",
   "name": "python",
   "nbconvert_exporter": "python",
   "pygments_lexer": "ipython3",
   "version": "3.8.5"
  }
 },
 "nbformat": 4,
 "nbformat_minor": 4
}
